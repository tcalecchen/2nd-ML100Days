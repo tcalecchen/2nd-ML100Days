{
 "cells": [
  {
   "cell_type": "markdown",
   "metadata": {},
   "source": [
    "## Work\n",
    "1. 請嘗試將 preproc_x 替換成以每筆資料的 min/max 進行標準化至 -1 ~ 1 間，再進行訓練\n",
    "2. 請嘗試將 mlp 疊更深 (e.g 5~10 層)，進行訓練後觀察 learning curve 的走勢\n",
    "3. (optional) 請改用 GPU 進行訓練 (如果你有 GPU 的話)，比較使用 CPU 與 GPU 的訓練速度"
   ]
  },
  {
   "cell_type": "code",
   "execution_count": 1,
   "metadata": {},
   "outputs": [
    {
     "name": "stdout",
     "output_type": "stream",
     "text": [
      "Mon Jul 15 08:10:56 2019       \n",
      "+-----------------------------------------------------------------------------+\n",
      "| NVIDIA-SMI 425.31       Driver Version: 425.31       CUDA Version: 10.1     |\n",
      "|-------------------------------+----------------------+----------------------+\n",
      "| GPU  Name            TCC/WDDM | Bus-Id        Disp.A | Volatile Uncorr. ECC |\n",
      "| Fan  Temp  Perf  Pwr:Usage/Cap|         Memory-Usage | GPU-Util  Compute M. |\n",
      "|===============================+======================+======================|\n",
      "|   0  GeForce GT 750M    WDDM  | 00000000:01:00.0 N/A |                  N/A |\n",
      "| N/A   52C    P0    N/A /  N/A |     38MiB /  2048MiB |     N/A      Default |\n",
      "+-------------------------------+----------------------+----------------------+\n",
      "                                                                               \n",
      "+-----------------------------------------------------------------------------+\n",
      "| Processes:                                                       GPU Memory |\n",
      "|  GPU       PID   Type   Process name                             Usage      |\n",
      "|=============================================================================|\n",
      "|    0                    Not Supported                                       |\n",
      "+-----------------------------------------------------------------------------+\n"
     ]
    }
   ],
   "source": [
    "## \n",
    "\"\"\"\n",
    "Your code here (optional)\n",
    "確認硬體資源\n",
    "\"\"\"\n",
    "!nvidia-smi"
   ]
  },
  {
   "cell_type": "code",
   "execution_count": 2,
   "metadata": {},
   "outputs": [
    {
     "name": "stderr",
     "output_type": "stream",
     "text": [
      "Using TensorFlow backend.\n"
     ]
    }
   ],
   "source": [
    "import os\n",
    "import keras\n",
    "\n",
    "# 請嘗試設定 GPU：os.environ\n",
    "os.environ[\"CUDA_DEVICE_ORDER\"]=\"PCI_BUS_ID\" # 設定 smi 看到的 GPU ID 符合實際設定的順序 (若一台機器有多張不同型號的卡時，會有此類問題)\n",
    "os.environ[\"CUDA_VISIBLE_DEVICES\"] = \"0\""
   ]
  },
  {
   "cell_type": "code",
   "execution_count": 3,
   "metadata": {},
   "outputs": [],
   "source": [
    "train, test = keras.datasets.cifar10.load_data()"
   ]
  },
  {
   "cell_type": "code",
   "execution_count": 4,
   "metadata": {},
   "outputs": [],
   "source": [
    "## 資料前處理\n",
    "\"\"\"\n",
    "Your code here\n",
    "\"\"\"\n",
    "def preproc_x(x, flatten=True):\n",
    "    x = 2*(((x - x.min()) / (x.max() - x.min()))-0.5)   \n",
    "    if flatten:\n",
    "        x = x.reshape((len(x), -1))\n",
    "    return x\n",
    "\n",
    "def preproc_y(y, num_classes=10):\n",
    "    if y.shape[-1] == 1:\n",
    "        y = keras.utils.to_categorical(y, num_classes)\n",
    "    return y   "
   ]
  },
  {
   "cell_type": "code",
   "execution_count": 5,
   "metadata": {},
   "outputs": [],
   "source": [
    "x_train, y_train = train\n",
    "x_test, y_test = test\n",
    "\n",
    "# Preproc the inputs\n",
    "x_train = preproc_x(x_train)\n",
    "x_test = preproc_x(x_test)\n",
    "\n",
    "# Preprc the outputs\n",
    "y_train = preproc_y(y_train)\n",
    "y_test = preproc_y(y_test)"
   ]
  },
  {
   "cell_type": "code",
   "execution_count": 6,
   "metadata": {},
   "outputs": [
    {
     "name": "stderr",
     "output_type": "stream",
     "text": [
      "WARNING: Logging before flag parsing goes to stderr.\n",
      "W0715 08:17:42.243298 13480 deprecation_wrapper.py:119] From E:\\Anaconda3\\lib\\site-packages\\keras\\backend\\tensorflow_backend.py:74: The name tf.get_default_graph is deprecated. Please use tf.compat.v1.get_default_graph instead.\n",
      "\n",
      "W0715 08:17:43.993145 13480 deprecation_wrapper.py:119] From E:\\Anaconda3\\lib\\site-packages\\keras\\backend\\tensorflow_backend.py:517: The name tf.placeholder is deprecated. Please use tf.compat.v1.placeholder instead.\n",
      "\n",
      "W0715 08:17:45.558617 13480 deprecation_wrapper.py:119] From E:\\Anaconda3\\lib\\site-packages\\keras\\backend\\tensorflow_backend.py:4138: The name tf.random_uniform is deprecated. Please use tf.random.uniform instead.\n",
      "\n"
     ]
    },
    {
     "name": "stdout",
     "output_type": "stream",
     "text": [
      "_________________________________________________________________\n",
      "Layer (type)                 Output Shape              Param #   \n",
      "=================================================================\n",
      "input_1 (InputLayer)         (None, 3072)              0         \n",
      "_________________________________________________________________\n",
      "hidden_layer1 (Dense)        (None, 512)               1573376   \n",
      "_________________________________________________________________\n",
      "hidden_layer2 (Dense)        (None, 256)               131328    \n",
      "_________________________________________________________________\n",
      "hidden_layer3 (Dense)        (None, 128)               32896     \n",
      "_________________________________________________________________\n",
      "hidden_layer4 (Dense)        (None, 64)                8256      \n",
      "_________________________________________________________________\n",
      "hidden_layer5 (Dense)        (None, 32)                2080      \n",
      "_________________________________________________________________\n",
      "output (Dense)               (None, 10)                330       \n",
      "=================================================================\n",
      "Total params: 1,748,266\n",
      "Trainable params: 1,748,266\n",
      "Non-trainable params: 0\n",
      "_________________________________________________________________\n"
     ]
    }
   ],
   "source": [
    "\"\"\"Code Here\n",
    "建立你的神經網路\n",
    "\"\"\"\n",
    "def build_mlp(input_shape, output_units=10, num_neurons=[512, 256, 128, 64, 32]):\n",
    "    input_layer = keras.layers.Input(input_shape)\n",
    "    \n",
    "    for i, n_units in enumerate(num_neurons):\n",
    "        if i == 0:\n",
    "            x = keras.layers.Dense(units=n_units, activation=\"relu\", name=\"hidden_layer\"+str(i+1))(input_layer)\n",
    "        else:\n",
    "            x = keras.layers.Dense(units=n_units, activation=\"relu\", name=\"hidden_layer\"+str(i+1))(x)\n",
    "    \n",
    "    out = keras.layers.Dense(units=output_units, activation=\"softmax\", name=\"output\")(x)\n",
    "    \n",
    "    model = keras.models.Model(inputs=[input_layer], outputs=[out])\n",
    "    return model\n",
    "\n",
    "model = build_mlp(input_shape=x_train.shape[1:])\n",
    "model.summary()"
   ]
  },
  {
   "cell_type": "code",
   "execution_count": 7,
   "metadata": {},
   "outputs": [],
   "source": [
    "## 超參數設定\n",
    "LEARNING_RATE = 0.001\n",
    "EPOCHS = 100\n",
    "BATCH_SIZE = 256"
   ]
  },
  {
   "cell_type": "code",
   "execution_count": 8,
   "metadata": {},
   "outputs": [
    {
     "name": "stderr",
     "output_type": "stream",
     "text": [
      "W0715 08:17:52.574693 13480 deprecation_wrapper.py:119] From E:\\Anaconda3\\lib\\site-packages\\keras\\optimizers.py:790: The name tf.train.Optimizer is deprecated. Please use tf.compat.v1.train.Optimizer instead.\n",
      "\n",
      "W0715 08:17:52.603813 13480 deprecation_wrapper.py:119] From E:\\Anaconda3\\lib\\site-packages\\keras\\backend\\tensorflow_backend.py:3295: The name tf.log is deprecated. Please use tf.math.log instead.\n",
      "\n"
     ]
    }
   ],
   "source": [
    "optimizer = keras.optimizers.Adam(lr=LEARNING_RATE)\n",
    "model.compile(loss=\"categorical_crossentropy\", metrics=[\"accuracy\"], optimizer=optimizer)"
   ]
  },
  {
   "cell_type": "code",
   "execution_count": 9,
   "metadata": {},
   "outputs": [
    {
     "name": "stderr",
     "output_type": "stream",
     "text": [
      "W0715 08:18:02.018139 13480 deprecation.py:323] From E:\\Anaconda3\\lib\\site-packages\\tensorflow\\python\\ops\\math_grad.py:1250: add_dispatch_support.<locals>.wrapper (from tensorflow.python.ops.array_ops) is deprecated and will be removed in a future version.\n",
      "Instructions for updating:\n",
      "Use tf.where in 2.0, which has the same broadcast rule as np.where\n",
      "W0715 08:18:02.138096 13480 deprecation_wrapper.py:119] From E:\\Anaconda3\\lib\\site-packages\\keras\\backend\\tensorflow_backend.py:986: The name tf.assign_add is deprecated. Please use tf.compat.v1.assign_add instead.\n",
      "\n"
     ]
    },
    {
     "name": "stdout",
     "output_type": "stream",
     "text": [
      "Train on 50000 samples, validate on 10000 samples\n",
      "Epoch 1/100\n",
      "50000/50000 [==============================] - 18s 351us/step - loss: 1.7322 - acc: 0.3877 - val_loss: 1.5682 - val_acc: 0.4451\n",
      "Epoch 2/100\n",
      "50000/50000 [==============================] - 12s 243us/step - loss: 1.4902 - acc: 0.4738 - val_loss: 1.5110 - val_acc: 0.4711\n",
      "Epoch 3/100\n",
      "50000/50000 [==============================] - 13s 252us/step - loss: 1.3709 - acc: 0.5162 - val_loss: 1.4138 - val_acc: 0.5059\n",
      "Epoch 4/100\n",
      "50000/50000 [==============================] - 13s 259us/step - loss: 1.2769 - acc: 0.5511 - val_loss: 1.3687 - val_acc: 0.5178\n",
      "Epoch 5/100\n",
      "50000/50000 [==============================] - 12s 246us/step - loss: 1.1936 - acc: 0.5802 - val_loss: 1.3772 - val_acc: 0.5186\n",
      "Epoch 6/100\n",
      "50000/50000 [==============================] - 12s 247us/step - loss: 1.1201 - acc: 0.6061 - val_loss: 1.3784 - val_acc: 0.5297\n",
      "Epoch 7/100\n",
      "50000/50000 [==============================] - 12s 248us/step - loss: 1.0398 - acc: 0.6329 - val_loss: 1.3718 - val_acc: 0.5263\n",
      "Epoch 8/100\n",
      "50000/50000 [==============================] - 13s 252us/step - loss: 0.9705 - acc: 0.6579 - val_loss: 1.3795 - val_acc: 0.5386\n",
      "Epoch 9/100\n",
      "50000/50000 [==============================] - 13s 254us/step - loss: 0.9004 - acc: 0.6815 - val_loss: 1.4214 - val_acc: 0.5328\n",
      "Epoch 10/100\n",
      "50000/50000 [==============================] - 13s 254us/step - loss: 0.8292 - acc: 0.7044 - val_loss: 1.4543 - val_acc: 0.5284\n",
      "Epoch 11/100\n",
      "50000/50000 [==============================] - 13s 259us/step - loss: 0.7595 - acc: 0.7323 - val_loss: 1.5521 - val_acc: 0.5392\n",
      "Epoch 12/100\n",
      "50000/50000 [==============================] - 13s 251us/step - loss: 0.7066 - acc: 0.7504 - val_loss: 1.5885 - val_acc: 0.5329\n",
      "Epoch 13/100\n",
      "50000/50000 [==============================] - 13s 251us/step - loss: 0.6434 - acc: 0.7733 - val_loss: 1.6576 - val_acc: 0.5282\n",
      "Epoch 14/100\n",
      "50000/50000 [==============================] - 13s 254us/step - loss: 0.5929 - acc: 0.7877 - val_loss: 1.7210 - val_acc: 0.5338\n",
      "Epoch 15/100\n",
      "50000/50000 [==============================] - 13s 253us/step - loss: 0.5318 - acc: 0.8139 - val_loss: 1.7867 - val_acc: 0.5325\n",
      "Epoch 16/100\n",
      "50000/50000 [==============================] - 13s 254us/step - loss: 0.4878 - acc: 0.8292 - val_loss: 1.9106 - val_acc: 0.5261\n",
      "Epoch 17/100\n",
      "50000/50000 [==============================] - 13s 256us/step - loss: 0.4458 - acc: 0.8430 - val_loss: 1.9228 - val_acc: 0.5288\n",
      "Epoch 18/100\n",
      "50000/50000 [==============================] - 13s 258us/step - loss: 0.4237 - acc: 0.8500 - val_loss: 2.0256 - val_acc: 0.5269\n",
      "Epoch 19/100\n",
      "50000/50000 [==============================] - 13s 254us/step - loss: 0.3866 - acc: 0.8641 - val_loss: 2.1614 - val_acc: 0.5244\n",
      "Epoch 20/100\n",
      "50000/50000 [==============================] - 13s 253us/step - loss: 0.3466 - acc: 0.8783 - val_loss: 2.2722 - val_acc: 0.5240\n",
      "Epoch 21/100\n",
      "50000/50000 [==============================] - 13s 254us/step - loss: 0.3334 - acc: 0.8835 - val_loss: 2.2640 - val_acc: 0.5288\n",
      "Epoch 22/100\n",
      "50000/50000 [==============================] - 13s 255us/step - loss: 0.2962 - acc: 0.8951 - val_loss: 2.4543 - val_acc: 0.5256\n",
      "Epoch 23/100\n",
      "50000/50000 [==============================] - 13s 254us/step - loss: 0.2866 - acc: 0.8989 - val_loss: 2.5109 - val_acc: 0.5263\n",
      "Epoch 24/100\n",
      "50000/50000 [==============================] - 13s 256us/step - loss: 0.2683 - acc: 0.9058 - val_loss: 2.6247 - val_acc: 0.5259\n",
      "Epoch 25/100\n",
      "50000/50000 [==============================] - 13s 256us/step - loss: 0.2516 - acc: 0.9116 - val_loss: 2.6874 - val_acc: 0.5247\n",
      "Epoch 26/100\n",
      "50000/50000 [==============================] - 13s 255us/step - loss: 0.2356 - acc: 0.9180 - val_loss: 2.6610 - val_acc: 0.5194\n",
      "Epoch 27/100\n",
      "50000/50000 [==============================] - 13s 259us/step - loss: 0.2279 - acc: 0.9209 - val_loss: 2.7479 - val_acc: 0.5219\n",
      "Epoch 28/100\n",
      "50000/50000 [==============================] - 13s 258us/step - loss: 0.2177 - acc: 0.9243 - val_loss: 2.9400 - val_acc: 0.5216\n",
      "Epoch 29/100\n",
      "50000/50000 [==============================] - 13s 255us/step - loss: 0.2075 - acc: 0.9276 - val_loss: 2.8715 - val_acc: 0.5273\n",
      "Epoch 30/100\n",
      "50000/50000 [==============================] - 13s 263us/step - loss: 0.1968 - acc: 0.9324 - val_loss: 3.0159 - val_acc: 0.5257\n",
      "Epoch 31/100\n",
      "50000/50000 [==============================] - 13s 261us/step - loss: 0.1877 - acc: 0.9348 - val_loss: 3.1341 - val_acc: 0.5247\n",
      "Epoch 32/100\n",
      "50000/50000 [==============================] - 13s 256us/step - loss: 0.1929 - acc: 0.9323 - val_loss: 3.0373 - val_acc: 0.5240\n",
      "Epoch 33/100\n",
      "50000/50000 [==============================] - 13s 253us/step - loss: 0.1737 - acc: 0.9394 - val_loss: 3.0985 - val_acc: 0.5292\n",
      "Epoch 34/100\n",
      "50000/50000 [==============================] - 13s 257us/step - loss: 0.1677 - acc: 0.9420 - val_loss: 3.1947 - val_acc: 0.5218\n",
      "Epoch 35/100\n",
      "50000/50000 [==============================] - 13s 258us/step - loss: 0.1590 - acc: 0.9450 - val_loss: 3.2910 - val_acc: 0.5247\n",
      "Epoch 36/100\n",
      "50000/50000 [==============================] - 13s 255us/step - loss: 0.1775 - acc: 0.9404 - val_loss: 3.1490 - val_acc: 0.5272\n",
      "Epoch 37/100\n",
      "50000/50000 [==============================] - 13s 257us/step - loss: 0.1350 - acc: 0.9542 - val_loss: 3.2626 - val_acc: 0.5275oss:\n",
      "Epoch 38/100\n",
      "50000/50000 [==============================] - 13s 252us/step - loss: 0.1410 - acc: 0.9523 - val_loss: 3.2607 - val_acc: 0.5206\n",
      "Epoch 39/100\n",
      "50000/50000 [==============================] - 13s 255us/step - loss: 0.1640 - acc: 0.9433 - val_loss: 3.2725 - val_acc: 0.5296\n",
      "Epoch 40/100\n",
      "50000/50000 [==============================] - 13s 252us/step - loss: 0.1416 - acc: 0.9528 - val_loss: 3.3804 - val_acc: 0.5254\n",
      "Epoch 41/100\n",
      "50000/50000 [==============================] - 13s 255us/step - loss: 0.1273 - acc: 0.9565 - val_loss: 3.4348 - val_acc: 0.5240\n",
      "Epoch 42/100\n",
      "50000/50000 [==============================] - 13s 254us/step - loss: 0.1216 - acc: 0.9588 - val_loss: 3.4679 - val_acc: 0.5238\n",
      "Epoch 43/100\n",
      "50000/50000 [==============================] - 13s 259us/step - loss: 0.1421 - acc: 0.9524 - val_loss: 3.5361 - val_acc: 0.5217\n",
      "Epoch 44/100\n",
      "50000/50000 [==============================] - 13s 259us/step - loss: 0.1146 - acc: 0.9614 - val_loss: 3.4516 - val_acc: 0.5237\n",
      "Epoch 45/100\n",
      "50000/50000 [==============================] - 13s 255us/step - loss: 0.1443 - acc: 0.9519 - val_loss: 3.4852 - val_acc: 0.5115\n",
      "Epoch 46/100\n",
      "50000/50000 [==============================] - 13s 256us/step - loss: 0.1480 - acc: 0.9522 - val_loss: 3.4135 - val_acc: 0.5277\n",
      "Epoch 47/100\n",
      "50000/50000 [==============================] - 13s 257us/step - loss: 0.0951 - acc: 0.9684 - val_loss: 3.5580 - val_acc: 0.5243\n",
      "Epoch 48/100\n",
      "50000/50000 [==============================] - 13s 250us/step - loss: 0.1180 - acc: 0.9611 - val_loss: 3.4875 - val_acc: 0.5202\n",
      "Epoch 49/100\n",
      "50000/50000 [==============================] - 12s 249us/step - loss: 0.1288 - acc: 0.9570 - val_loss: 3.4767 - val_acc: 0.5202\n",
      "Epoch 50/100\n",
      "50000/50000 [==============================] - 12s 249us/step - loss: 0.1046 - acc: 0.9647 - val_loss: 3.4787 - val_acc: 0.5208\n",
      "Epoch 51/100\n",
      "50000/50000 [==============================] - 13s 253us/step - loss: 0.1041 - acc: 0.9659 - val_loss: 3.6555 - val_acc: 0.5164\n",
      "Epoch 52/100\n",
      "50000/50000 [==============================] - 12s 249us/step - loss: 0.1041 - acc: 0.9660 - val_loss: 3.6411 - val_acc: 0.5218\n",
      "Epoch 53/100\n",
      "50000/50000 [==============================] - 12s 248us/step - loss: 0.0952 - acc: 0.9677 - val_loss: 3.6812 - val_acc: 0.5167\n",
      "Epoch 54/100\n",
      "50000/50000 [==============================] - 12s 247us/step - loss: 0.1277 - acc: 0.9580 - val_loss: 3.5783 - val_acc: 0.5212\n",
      "Epoch 55/100\n",
      "50000/50000 [==============================] - 12s 248us/step - loss: 0.1086 - acc: 0.9645 - val_loss: 3.6839 - val_acc: 0.5244\n",
      "Epoch 56/100\n",
      "50000/50000 [==============================] - 12s 247us/step - loss: 0.1155 - acc: 0.9617 - val_loss: 3.5260 - val_acc: 0.5268\n",
      "Epoch 57/100\n",
      "50000/50000 [==============================] - 12s 248us/step - loss: 0.0948 - acc: 0.9687 - val_loss: 3.7429 - val_acc: 0.5217\n",
      "Epoch 58/100\n"
     ]
    },
    {
     "name": "stdout",
     "output_type": "stream",
     "text": [
      "50000/50000 [==============================] - 12s 237us/step - loss: 0.0925 - acc: 0.9693 - val_loss: 3.7578 - val_acc: 0.5271\n",
      "Epoch 59/100\n",
      "50000/50000 [==============================] - 12s 237us/step - loss: 0.1071 - acc: 0.9639 - val_loss: 3.7369 - val_acc: 0.5205\n",
      "Epoch 60/100\n",
      "50000/50000 [==============================] - 12s 235us/step - loss: 0.1012 - acc: 0.9670 - val_loss: 3.6431 - val_acc: 0.5269\n",
      "Epoch 61/100\n",
      "50000/50000 [==============================] - 12s 235us/step - loss: 0.0806 - acc: 0.9735 - val_loss: 3.8200 - val_acc: 0.5263\n",
      "Epoch 62/100\n",
      "50000/50000 [==============================] - 12s 234us/step - loss: 0.0903 - acc: 0.9700 - val_loss: 3.7083 - val_acc: 0.5290\n",
      "Epoch 63/100\n",
      "50000/50000 [==============================] - 12s 236us/step - loss: 0.0924 - acc: 0.9694 - val_loss: 3.8246 - val_acc: 0.5332\n",
      "Epoch 64/100\n",
      "50000/50000 [==============================] - 12s 241us/step - loss: 0.0842 - acc: 0.9725 - val_loss: 3.8613 - val_acc: 0.5230\n",
      "Epoch 65/100\n",
      "50000/50000 [==============================] - 12s 236us/step - loss: 0.0962 - acc: 0.9681 - val_loss: 3.8296 - val_acc: 0.5206\n",
      "Epoch 66/100\n",
      "50000/50000 [==============================] - 12s 234us/step - loss: 0.0967 - acc: 0.9686 - val_loss: 3.8733 - val_acc: 0.5233\n",
      "Epoch 67/100\n",
      "50000/50000 [==============================] - 12s 235us/step - loss: 0.0817 - acc: 0.9728 - val_loss: 3.8885 - val_acc: 0.5348\n",
      "Epoch 68/100\n",
      "50000/50000 [==============================] - 12s 236us/step - loss: 0.0857 - acc: 0.9727 - val_loss: 3.9512 - val_acc: 0.5265\n",
      "Epoch 69/100\n",
      "50000/50000 [==============================] - 12s 235us/step - loss: 0.0877 - acc: 0.9710 - val_loss: 3.8250 - val_acc: 0.5260\n",
      "Epoch 70/100\n",
      "50000/50000 [==============================] - 12s 235us/step - loss: 0.0875 - acc: 0.9719 - val_loss: 3.7988 - val_acc: 0.5247\n",
      "Epoch 71/100\n",
      "50000/50000 [==============================] - 12s 237us/step - loss: 0.1051 - acc: 0.9663 - val_loss: 3.7911 - val_acc: 0.5280\n",
      "Epoch 72/100\n",
      "50000/50000 [==============================] - 12s 240us/step - loss: 0.0711 - acc: 0.9771 - val_loss: 3.9178 - val_acc: 0.5269\n",
      "Epoch 73/100\n",
      "50000/50000 [==============================] - 12s 235us/step - loss: 0.0719 - acc: 0.9769 - val_loss: 3.9362 - val_acc: 0.5208\n",
      "Epoch 74/100\n",
      "50000/50000 [==============================] - 12s 235us/step - loss: 0.0798 - acc: 0.9744 - val_loss: 3.8886 - val_acc: 0.5254\n",
      "Epoch 75/100\n",
      "50000/50000 [==============================] - 12s 237us/step - loss: 0.0887 - acc: 0.9712 - val_loss: 3.9004 - val_acc: 0.5253\n",
      "Epoch 76/100\n",
      "50000/50000 [==============================] - 12s 236us/step - loss: 0.0757 - acc: 0.9751 - val_loss: 3.8697 - val_acc: 0.5280\n",
      "Epoch 77/100\n",
      "50000/50000 [==============================] - 13s 253us/step - loss: 0.0704 - acc: 0.9772 - val_loss: 4.0233 - val_acc: 0.5251\n",
      "Epoch 78/100\n",
      "50000/50000 [==============================] - 12s 245us/step - loss: 0.1042 - acc: 0.9676 - val_loss: 3.8666 - val_acc: 0.5204\n",
      "Epoch 79/100\n",
      "50000/50000 [==============================] - 12s 245us/step - loss: 0.0971 - acc: 0.9695 - val_loss: 3.9082 - val_acc: 0.5303\n",
      "Epoch 80/100\n",
      "50000/50000 [==============================] - 12s 246us/step - loss: 0.0773 - acc: 0.9748 - val_loss: 3.8558 - val_acc: 0.5247\n",
      "Epoch 81/100\n",
      "50000/50000 [==============================] - 12s 247us/step - loss: 0.0544 - acc: 0.9825 - val_loss: 3.9254 - val_acc: 0.5322\n",
      "Epoch 82/100\n",
      "50000/50000 [==============================] - 12s 244us/step - loss: 0.0613 - acc: 0.9800 - val_loss: 4.0904 - val_acc: 0.5247\n",
      "Epoch 83/100\n",
      "50000/50000 [==============================] - 12s 243us/step - loss: 0.0804 - acc: 0.9746 - val_loss: 3.9164 - val_acc: 0.5219\n",
      "Epoch 84/100\n",
      "50000/50000 [==============================] - 12s 244us/step - loss: 0.0743 - acc: 0.9759 - val_loss: 4.0551 - val_acc: 0.5243\n",
      "Epoch 85/100\n",
      "50000/50000 [==============================] - 12s 245us/step - loss: 0.0793 - acc: 0.9745 - val_loss: 4.0254 - val_acc: 0.5319\n",
      "Epoch 86/100\n",
      "50000/50000 [==============================] - 12s 245us/step - loss: 0.0798 - acc: 0.9749 - val_loss: 3.9416 - val_acc: 0.5241\n",
      "Epoch 87/100\n",
      "50000/50000 [==============================] - 12s 245us/step - loss: 0.0755 - acc: 0.9756 - val_loss: 4.0792 - val_acc: 0.5204\n",
      "Epoch 88/100\n",
      "50000/50000 [==============================] - 12s 247us/step - loss: 0.0676 - acc: 0.9793 - val_loss: 3.9599 - val_acc: 0.5250: 0.0674 - acc: 0.97\n",
      "Epoch 89/100\n",
      "50000/50000 [==============================] - 12s 247us/step - loss: 0.0563 - acc: 0.9812 - val_loss: 4.2360 - val_acc: 0.5207\n",
      "Epoch 90/100\n",
      "50000/50000 [==============================] - 12s 248us/step - loss: 0.0864 - acc: 0.9728 - val_loss: 3.8660 - val_acc: 0.5285\n",
      "Epoch 91/100\n",
      "50000/50000 [==============================] - 12s 249us/step - loss: 0.0786 - acc: 0.9763 - val_loss: 3.9820 - val_acc: 0.5319\n",
      "Epoch 92/100\n",
      "50000/50000 [==============================] - 13s 250us/step - loss: 0.0593 - acc: 0.9809 - val_loss: 3.9914 - val_acc: 0.5256\n",
      "Epoch 93/100\n",
      "50000/50000 [==============================] - 13s 251us/step - loss: 0.0611 - acc: 0.9802 - val_loss: 4.0218 - val_acc: 0.5293\n",
      "Epoch 94/100\n",
      "50000/50000 [==============================] - 13s 250us/step - loss: 0.0718 - acc: 0.9780 - val_loss: 4.0667 - val_acc: 0.5245\n",
      "Epoch 95/100\n",
      "50000/50000 [==============================] - 12s 250us/step - loss: 0.0744 - acc: 0.9759 - val_loss: 3.9927 - val_acc: 0.5281\n",
      "Epoch 96/100\n",
      "50000/50000 [==============================] - 13s 250us/step - loss: 0.0588 - acc: 0.9802 - val_loss: 4.0888 - val_acc: 0.5258\n",
      "Epoch 97/100\n",
      "50000/50000 [==============================] - 13s 250us/step - loss: 0.0737 - acc: 0.9766 - val_loss: 3.9167 - val_acc: 0.5332\n",
      "Epoch 98/100\n",
      "50000/50000 [==============================] - 12s 250us/step - loss: 0.0514 - acc: 0.9838 - val_loss: 4.1253 - val_acc: 0.5312\n",
      "Epoch 99/100\n",
      "50000/50000 [==============================] - 13s 250us/step - loss: 0.0717 - acc: 0.9776 - val_loss: 4.0133 - val_acc: 0.5253\n",
      "Epoch 100/100\n",
      "50000/50000 [==============================] - 13s 260us/step - loss: 0.0684 - acc: 0.9776 - val_loss: 4.0805 - val_acc: 0.5274\n"
     ]
    },
    {
     "data": {
      "text/plain": [
       "<keras.callbacks.History at 0x2132e222f60>"
      ]
     },
     "execution_count": 9,
     "metadata": {},
     "output_type": "execute_result"
    }
   ],
   "source": [
    "model.fit(x_train, y_train, \n",
    "          epochs=EPOCHS, \n",
    "          batch_size=BATCH_SIZE, \n",
    "          validation_data=(x_test, y_test), \n",
    "          shuffle=True)"
   ]
  },
  {
   "cell_type": "code",
   "execution_count": 11,
   "metadata": {},
   "outputs": [
    {
     "data": {
      "image/png": "[encoded data removed]",
      "text/plain": [
       "<Figure size 432x288 with 1 Axes>"
      ]
     },
     "metadata": {
      "needs_background": "light"
     },
     "output_type": "display_data"
    },
    {
     "data": {
      "image/png": "[encoded data removed]",
      "text/plain": [
       "<Figure size 432x288 with 1 Axes>"
      ]
     },
     "metadata": {
      "needs_background": "light"
     },
     "output_type": "display_data"
    }
   ],
   "source": [
    "import matplotlib.pyplot as plt\n",
    "\n",
    "\n",
    "train_loss = model.history.history[\"loss\"]\n",
    "valid_loss = model.history.history[\"val_loss\"]\n",
    "\n",
    "train_acc = model.history.history[\"acc\"]\n",
    "valid_acc = model.history.history[\"val_acc\"]\n",
    "\n",
    "plt.plot(range(len(train_loss)), train_loss, label=\"train loss\")\n",
    "plt.plot(range(len(valid_loss)), valid_loss, label=\"valid loss\")\n",
    "plt.legend()\n",
    "plt.title(\"Loss\")\n",
    "plt.show()\n",
    "\n",
    "plt.plot(range(len(train_acc)), train_acc, label=\"train accuracy\")\n",
    "plt.plot(range(len(valid_acc)), valid_acc, label=\"valid accuracy\")\n",
    "plt.legend()\n",
    "plt.title(\"Accuracy\")\n",
    "plt.show()"
   ]
  }
 ],
 "metadata": {
  "kernelspec": {
   "display_name": "Python 3",
   "language": "python",
   "name": "python3"
  },
  "language_info": {
   "codemirror_mode": {
    "name": "ipython",
    "version": 3
   },
   "file_extension": ".py",
   "mimetype": "text/x-python",
   "name": "python",
   "nbconvert_exporter": "python",
   "pygments_lexer": "ipython3",
   "version": "3.7.3"
  }
 },
 "nbformat": 4,
 "nbformat_minor": 2
}
