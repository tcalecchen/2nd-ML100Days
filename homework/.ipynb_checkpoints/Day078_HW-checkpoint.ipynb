{
 "cells": [
  {
   "cell_type": "markdown",
   "metadata": {},
   "source": [
    "## Work\n",
    "1. 請嘗試將 preproc_x 替換成以每筆資料的 min/max 進行標準化至 -1 ~ 1 間，再進行訓練\n",
    "2. 請嘗試將 mlp 疊更深 (e.g 5~10 層)，進行訓練後觀察 learning curve 的走勢\n",
    "3. (optional) 請改用 GPU 進行訓練 (如果你有 GPU 的話)，比較使用 CPU 與 GPU 的訓練速度"
   ]
  },
  {
   "cell_type": "code",
   "execution_count": 1,
   "metadata": {},
   "outputs": [
    {
     "data": {
      "text/plain": [
       "'\\nYour code here (optional)\\n確認硬體資源\\n'"
      ]
     },
     "execution_count": 1,
     "metadata": {},
     "output_type": "execute_result"
    }
   ],
   "source": [
    "## \n",
    "\"\"\"\n",
    "Your code here (optional)\n",
    "確認硬體資源\n",
    "\"\"\"\n",
    "!nvidia-smi"
   ]
  },
  {
   "cell_type": "code",
   "execution_count": 2,
   "metadata": {},
   "outputs": [
    {
     "name": "stderr",
     "output_type": "stream",
     "text": [
      "Using TensorFlow backend.\n"
     ]
    }
   ],
   "source": [
    "import os\n",
    "import keras\n",
    "\n",
    "# 請嘗試設定 GPU：os.environ\n",
    "os.environ[\"CUDA_VISIBLE_DEVICES\"] = \"\""
   ]
  },
  {
   "cell_type": "code",
   "execution_count": 3,
   "metadata": {},
   "outputs": [],
   "source": [
    "train, test = keras.datasets.cifar10.load_data()"
   ]
  },
  {
   "cell_type": "code",
   "execution_count": 4,
   "metadata": {},
   "outputs": [],
   "source": [
    "## 資料前處理\n",
    "\"\"\"\n",
    "Your code here\n",
    "\"\"\"\n",
    "def preproc_x(x, flatten=True):\n",
    "    x = 2*(((x - x.min()) / (x.max() - x.min()))-0.5)   \n",
    "    if flatten:\n",
    "        x = x.reshape((len(x), -1))\n",
    "    return x\n",
    "\n",
    "def preproc_y(y, num_classes=10):\n",
    "    if y.shape[-1] == 1:\n",
    "        y = keras.utils.to_categorical(y, num_classes)\n",
    "    return y   "
   ]
  },
  {
   "cell_type": "code",
   "execution_count": 5,
   "metadata": {},
   "outputs": [],
   "source": [
    "x_train, y_train = train\n",
    "x_test, y_test = test\n",
    "\n",
    "# Preproc the inputs\n",
    "x_train = preproc_x(x_train)\n",
    "x_test = preproc_x(x_test)\n",
    "\n",
    "# Preprc the outputs\n",
    "y_train = preproc_y(y_train)\n",
    "y_test = preproc_y(y_test)"
   ]
  },
  {
   "cell_type": "code",
   "execution_count": 6,
   "metadata": {},
   "outputs": [
    {
     "name": "stderr",
     "output_type": "stream",
     "text": [
      "WARNING: Logging before flag parsing goes to stderr.\n",
      "W0714 19:45:57.483978 16440 deprecation_wrapper.py:119] From C:\\Users\\alech\\Anaconda3\\lib\\site-packages\\keras\\backend\\tensorflow_backend.py:74: The name tf.get_default_graph is deprecated. Please use tf.compat.v1.get_default_graph instead.\n",
      "\n",
      "W0714 19:45:57.511904 16440 deprecation_wrapper.py:119] From C:\\Users\\alech\\Anaconda3\\lib\\site-packages\\keras\\backend\\tensorflow_backend.py:517: The name tf.placeholder is deprecated. Please use tf.compat.v1.placeholder instead.\n",
      "\n",
      "W0714 19:45:57.516891 16440 deprecation_wrapper.py:119] From C:\\Users\\alech\\Anaconda3\\lib\\site-packages\\keras\\backend\\tensorflow_backend.py:4138: The name tf.random_uniform is deprecated. Please use tf.random.uniform instead.\n",
      "\n"
     ]
    },
    {
     "name": "stdout",
     "output_type": "stream",
     "text": [
      "_________________________________________________________________\n",
      "Layer (type)                 Output Shape              Param #   \n",
      "=================================================================\n",
      "input_1 (InputLayer)         (None, 3072)              0         \n",
      "_________________________________________________________________\n",
      "hidden_layer1 (Dense)        (None, 512)               1573376   \n",
      "_________________________________________________________________\n",
      "hidden_layer2 (Dense)        (None, 256)               131328    \n",
      "_________________________________________________________________\n",
      "hidden_layer3 (Dense)        (None, 128)               32896     \n",
      "_________________________________________________________________\n",
      "hidden_layer4 (Dense)        (None, 64)                8256      \n",
      "_________________________________________________________________\n",
      "hidden_layer5 (Dense)        (None, 32)                2080      \n",
      "_________________________________________________________________\n",
      "output (Dense)               (None, 10)                330       \n",
      "=================================================================\n",
      "Total params: 1,748,266\n",
      "Trainable params: 1,748,266\n",
      "Non-trainable params: 0\n",
      "_________________________________________________________________\n"
     ]
    }
   ],
   "source": [
    "\"\"\"Code Here\n",
    "建立你的神經網路\n",
    "\"\"\"\n",
    "def build_mlp(input_shape, output_units=10, num_neurons=[512, 256, 128, 64, 32]):\n",
    "    input_layer = keras.layers.Input(input_shape)\n",
    "    \n",
    "    for i, n_units in enumerate(num_neurons):\n",
    "        if i == 0:\n",
    "            x = keras.layers.Dense(units=n_units, activation=\"relu\", name=\"hidden_layer\"+str(i+1))(input_layer)\n",
    "        else:\n",
    "            x = keras.layers.Dense(units=n_units, activation=\"relu\", name=\"hidden_layer\"+str(i+1))(x)\n",
    "    \n",
    "    out = keras.layers.Dense(units=output_units, activation=\"softmax\", name=\"output\")(x)\n",
    "    \n",
    "    model = keras.models.Model(inputs=[input_layer], outputs=[out])\n",
    "    return model\n",
    "\n",
    "model = build_mlp(input_shape=x_train.shape[1:])\n",
    "model.summary()"
   ]
  },
  {
   "cell_type": "code",
   "execution_count": 7,
   "metadata": {},
   "outputs": [],
   "source": [
    "## 超參數設定\n",
    "LEARNING_RATE = 0.001\n",
    "EPOCHS = 100\n",
    "BATCH_SIZE = 256"
   ]
  },
  {
   "cell_type": "code",
   "execution_count": 8,
   "metadata": {},
   "outputs": [
    {
     "name": "stderr",
     "output_type": "stream",
     "text": [
      "W0714 19:46:07.327060 16440 deprecation_wrapper.py:119] From C:\\Users\\alech\\Anaconda3\\lib\\site-packages\\keras\\optimizers.py:790: The name tf.train.Optimizer is deprecated. Please use tf.compat.v1.train.Optimizer instead.\n",
      "\n",
      "W0714 19:46:07.341028 16440 deprecation_wrapper.py:119] From C:\\Users\\alech\\Anaconda3\\lib\\site-packages\\keras\\backend\\tensorflow_backend.py:3295: The name tf.log is deprecated. Please use tf.math.log instead.\n",
      "\n"
     ]
    }
   ],
   "source": [
    "optimizer = keras.optimizers.Adam(lr=LEARNING_RATE)\n",
    "model.compile(loss=\"categorical_crossentropy\", metrics=[\"accuracy\"], optimizer=optimizer)"
   ]
  },
  {
   "cell_type": "code",
   "execution_count": 9,
   "metadata": {},
   "outputs": [
    {
     "name": "stderr",
     "output_type": "stream",
     "text": [
      "W0714 19:46:12.079880 16440 deprecation.py:323] From C:\\Users\\alech\\Anaconda3\\lib\\site-packages\\tensorflow\\python\\ops\\math_grad.py:1250: add_dispatch_support.<locals>.wrapper (from tensorflow.python.ops.array_ops) is deprecated and will be removed in a future version.\n",
      "Instructions for updating:\n",
      "Use tf.where in 2.0, which has the same broadcast rule as np.where\n",
      "W0714 19:46:12.162724 16440 deprecation_wrapper.py:119] From C:\\Users\\alech\\Anaconda3\\lib\\site-packages\\keras\\backend\\tensorflow_backend.py:986: The name tf.assign_add is deprecated. Please use tf.compat.v1.assign_add instead.\n",
      "\n"
     ]
    },
    {
     "name": "stdout",
     "output_type": "stream",
     "text": [
      "Train on 50000 samples, validate on 10000 samples\n",
      "Epoch 1/100\n",
      "50000/50000 [==============================] - 14s 270us/step - loss: 1.9807 - acc: 0.2727 - val_loss: 1.9171 - val_acc: 0.3173\n",
      "Epoch 2/100\n",
      "50000/50000 [==============================] - 13s 258us/step - loss: 1.7668 - acc: 0.3629 - val_loss: 1.6903 - val_acc: 0.3880\n",
      "Epoch 3/100\n",
      "50000/50000 [==============================] - 14s 270us/step - loss: 1.6771 - acc: 0.3976 - val_loss: 1.7002 - val_acc: 0.3866\n",
      "Epoch 4/100\n",
      "50000/50000 [==============================] - 14s 285us/step - loss: 1.6058 - acc: 0.4239 - val_loss: 1.5790 - val_acc: 0.4339\n",
      "Epoch 5/100\n",
      "50000/50000 [==============================] - 14s 284us/step - loss: 1.5495 - acc: 0.4457 - val_loss: 1.5004 - val_acc: 0.4618\n",
      "Epoch 6/100\n",
      "50000/50000 [==============================] - 14s 288us/step - loss: 1.5140 - acc: 0.4563 - val_loss: 1.5571 - val_acc: 0.4438\n",
      "Epoch 7/100\n",
      "50000/50000 [==============================] - 14s 288us/step - loss: 1.4666 - acc: 0.4761 - val_loss: 1.5175 - val_acc: 0.4607\n",
      "Epoch 8/100\n",
      "50000/50000 [==============================] - 15s 292us/step - loss: 1.4431 - acc: 0.4844 - val_loss: 1.4536 - val_acc: 0.4812\n",
      "Epoch 9/100\n",
      "50000/50000 [==============================] - 14s 285us/step - loss: 1.4070 - acc: 0.4967 - val_loss: 1.5032 - val_acc: 0.4657\n",
      "Epoch 10/100\n",
      "50000/50000 [==============================] - 14s 289us/step - loss: 1.3862 - acc: 0.5036 - val_loss: 1.4403 - val_acc: 0.4873\n",
      "Epoch 11/100\n",
      "50000/50000 [==============================] - 14s 289us/step - loss: 1.3595 - acc: 0.5152 - val_loss: 1.4105 - val_acc: 0.4996\n",
      "Epoch 12/100\n",
      "50000/50000 [==============================] - 15s 303us/step - loss: 1.3315 - acc: 0.5268 - val_loss: 1.4062 - val_acc: 0.5023\n",
      "Epoch 13/100\n",
      "50000/50000 [==============================] - 15s 295us/step - loss: 1.3077 - acc: 0.5323 - val_loss: 1.4151 - val_acc: 0.5060\n",
      "Epoch 14/100\n",
      "50000/50000 [==============================] - 15s 294us/step - loss: 1.2804 - acc: 0.5426 - val_loss: 1.3732 - val_acc: 0.5151\n",
      "Epoch 15/100\n",
      "50000/50000 [==============================] - 15s 295us/step - loss: 1.2670 - acc: 0.5482 - val_loss: 1.3678 - val_acc: 0.5195\n",
      "Epoch 16/100\n",
      "50000/50000 [==============================] - 15s 293us/step - loss: 1.2341 - acc: 0.5582 - val_loss: 1.3811 - val_acc: 0.5161\n",
      "Epoch 17/100\n",
      "50000/50000 [==============================] - 15s 296us/step - loss: 1.2105 - acc: 0.5656 - val_loss: 1.3806 - val_acc: 0.5104\n",
      "Epoch 18/100\n",
      "50000/50000 [==============================] - 15s 298us/step - loss: 1.1971 - acc: 0.5711 - val_loss: 1.3995 - val_acc: 0.5079\n",
      "Epoch 19/100\n",
      "50000/50000 [==============================] - 15s 297us/step - loss: 1.1898 - acc: 0.5750 - val_loss: 1.3839 - val_acc: 0.5137\n",
      "Epoch 20/100\n",
      "50000/50000 [==============================] - 16s 324us/step - loss: 1.1547 - acc: 0.5870 - val_loss: 1.3986 - val_acc: 0.5073\n",
      "Epoch 21/100\n",
      "50000/50000 [==============================] - 16s 323us/step - loss: 1.1408 - acc: 0.5896 - val_loss: 1.3751 - val_acc: 0.5268\n",
      "Epoch 22/100\n",
      "50000/50000 [==============================] - 16s 322us/step - loss: 1.1161 - acc: 0.5996 - val_loss: 1.3668 - val_acc: 0.5241\n",
      "Epoch 23/100\n",
      "50000/50000 [==============================] - 15s 310us/step - loss: 1.0949 - acc: 0.6057 - val_loss: 1.3900 - val_acc: 0.5253\n",
      "Epoch 24/100\n",
      "50000/50000 [==============================] - 16s 313us/step - loss: 1.0752 - acc: 0.6143 - val_loss: 1.4164 - val_acc: 0.5208\n",
      "Epoch 25/100\n",
      "50000/50000 [==============================] - 15s 310us/step - loss: 1.0651 - acc: 0.6192 - val_loss: 1.3823 - val_acc: 0.5317\n",
      "Epoch 26/100\n",
      "50000/50000 [==============================] - 15s 306us/step - loss: 1.0393 - acc: 0.6256 - val_loss: 1.4319 - val_acc: 0.5124\n",
      "Epoch 27/100\n",
      "50000/50000 [==============================] - 16s 314us/step - loss: 1.0256 - acc: 0.6330 - val_loss: 1.4007 - val_acc: 0.5309\n",
      "Epoch 28/100\n",
      "50000/50000 [==============================] - 16s 322us/step - loss: 1.0081 - acc: 0.6374 - val_loss: 1.4265 - val_acc: 0.5185\n",
      "Epoch 29/100\n",
      "50000/50000 [==============================] - 15s 302us/step - loss: 0.9845 - acc: 0.6453 - val_loss: 1.4155 - val_acc: 0.5293\n",
      "Epoch 30/100\n",
      "50000/50000 [==============================] - 15s 303us/step - loss: 0.9585 - acc: 0.6545 - val_loss: 1.4335 - val_acc: 0.5232\n",
      "Epoch 31/100\n",
      "50000/50000 [==============================] - 15s 304us/step - loss: 0.9482 - acc: 0.6596 - val_loss: 1.4432 - val_acc: 0.5269\n",
      "Epoch 32/100\n",
      "50000/50000 [==============================] - 15s 310us/step - loss: 0.9289 - acc: 0.6653 - val_loss: 1.4087 - val_acc: 0.5328\n",
      "Epoch 33/100\n",
      "50000/50000 [==============================] - 15s 304us/step - loss: 0.9155 - acc: 0.6713 - val_loss: 1.4871 - val_acc: 0.5250\n",
      "Epoch 34/100\n",
      "50000/50000 [==============================] - 15s 296us/step - loss: 0.9024 - acc: 0.6759 - val_loss: 1.4907 - val_acc: 0.5261\n",
      "Epoch 35/100\n",
      "50000/50000 [==============================] - 15s 303us/step - loss: 0.8875 - acc: 0.6799 - val_loss: 1.4783 - val_acc: 0.5340\n",
      "Epoch 36/100\n",
      "50000/50000 [==============================] - 15s 297us/step - loss: 0.8494 - acc: 0.6948 - val_loss: 1.5641 - val_acc: 0.5189\n",
      "Epoch 37/100\n",
      "50000/50000 [==============================] - 15s 300us/step - loss: 0.8382 - acc: 0.7011 - val_loss: 1.5193 - val_acc: 0.5237\n",
      "Epoch 38/100\n",
      "50000/50000 [==============================] - 15s 297us/step - loss: 0.8307 - acc: 0.7006 - val_loss: 1.5171 - val_acc: 0.5376\n",
      "Epoch 39/100\n",
      "50000/50000 [==============================] - 15s 306us/step - loss: 0.7986 - acc: 0.7128 - val_loss: 1.6172 - val_acc: 0.5160\n",
      "Epoch 40/100\n",
      "50000/50000 [==============================] - 16s 311us/step - loss: 0.7919 - acc: 0.7157 - val_loss: 1.5997 - val_acc: 0.5266\n",
      "Epoch 41/100\n",
      "50000/50000 [==============================] - 15s 305us/step - loss: 0.7773 - acc: 0.7201 - val_loss: 1.6920 - val_acc: 0.5168\n",
      "Epoch 42/100\n",
      "50000/50000 [==============================] - 15s 301us/step - loss: 0.7806 - acc: 0.7175 - val_loss: 1.6433 - val_acc: 0.5222\n",
      "Epoch 43/100\n",
      "50000/50000 [==============================] - 15s 299us/step - loss: 0.7499 - acc: 0.7306 - val_loss: 1.6465 - val_acc: 0.5226\n",
      "Epoch 44/100\n",
      "50000/50000 [==============================] - 15s 308us/step - loss: 0.7261 - acc: 0.7364 - val_loss: 1.6669 - val_acc: 0.5261\n",
      "Epoch 45/100\n",
      "50000/50000 [==============================] - 15s 298us/step - loss: 0.7235 - acc: 0.7398 - val_loss: 1.7019 - val_acc: 0.5119\n",
      "Epoch 46/100\n",
      "50000/50000 [==============================] - 15s 302us/step - loss: 0.7065 - acc: 0.7456 - val_loss: 1.7327 - val_acc: 0.5144\n",
      "Epoch 47/100\n",
      "50000/50000 [==============================] - 15s 296us/step - loss: 0.7031 - acc: 0.7462 - val_loss: 1.7190 - val_acc: 0.5136\n",
      "Epoch 48/100\n",
      "50000/50000 [==============================] - 15s 305us/step - loss: 0.6704 - acc: 0.7574 - val_loss: 1.7688 - val_acc: 0.5188\n",
      "Epoch 49/100\n",
      "50000/50000 [==============================] - 16s 316us/step - loss: 0.6634 - acc: 0.7611 - val_loss: 1.7898 - val_acc: 0.5182\n",
      "Epoch 50/100\n",
      "50000/50000 [==============================] - 15s 309us/step - loss: 0.6566 - acc: 0.7614 - val_loss: 1.8025 - val_acc: 0.5293\n",
      "Epoch 51/100\n",
      "50000/50000 [==============================] - 16s 320us/step - loss: 0.6427 - acc: 0.7677 - val_loss: 1.8945 - val_acc: 0.5155\n",
      "Epoch 52/100\n",
      "50000/50000 [==============================] - 16s 317us/step - loss: 0.6244 - acc: 0.7737 - val_loss: 1.8695 - val_acc: 0.5208\n",
      "Epoch 53/100\n",
      "50000/50000 [==============================] - 16s 317us/step - loss: 0.6039 - acc: 0.7826 - val_loss: 1.8318 - val_acc: 0.5233\n",
      "Epoch 54/100\n",
      "50000/50000 [==============================] - 16s 314us/step - loss: 0.6062 - acc: 0.7799 - val_loss: 1.8925 - val_acc: 0.5188\n",
      "Epoch 55/100\n",
      "50000/50000 [==============================] - 16s 314us/step - loss: 0.6155 - acc: 0.7783 - val_loss: 1.9059 - val_acc: 0.5195\n",
      "Epoch 56/100\n",
      "50000/50000 [==============================] - 17s 349us/step - loss: 0.5741 - acc: 0.7921 - val_loss: 1.9670 - val_acc: 0.5172\n",
      "Epoch 57/100\n",
      "50000/50000 [==============================] - 17s 347us/step - loss: 0.5616 - acc: 0.7976 - val_loss: 2.0440 - val_acc: 0.5119\n",
      "Epoch 58/100\n",
      "50000/50000 [==============================] - 17s 338us/step - loss: 0.5661 - acc: 0.7951 - val_loss: 2.0313 - val_acc: 0.5217\n"
     ]
    },
    {
     "name": "stdout",
     "output_type": "stream",
     "text": [
      "Epoch 59/100\n",
      "50000/50000 [==============================] - 14s 285us/step - loss: 0.5517 - acc: 0.7999 - val_loss: 2.1033 - val_acc: 0.5093\n",
      "Epoch 60/100\n",
      "50000/50000 [==============================] - 14s 288us/step - loss: 0.5305 - acc: 0.8091 - val_loss: 2.1643 - val_acc: 0.5112\n",
      "Epoch 61/100\n",
      "50000/50000 [==============================] - 14s 286us/step - loss: 0.5324 - acc: 0.8081 - val_loss: 2.0942 - val_acc: 0.5055\n",
      "Epoch 62/100\n",
      "50000/50000 [==============================] - 14s 287us/step - loss: 0.5264 - acc: 0.8111 - val_loss: 2.0921 - val_acc: 0.5155\n",
      "Epoch 63/100\n",
      "50000/50000 [==============================] - 14s 282us/step - loss: 0.5140 - acc: 0.8153 - val_loss: 2.2247 - val_acc: 0.5080\n",
      "Epoch 64/100\n",
      "50000/50000 [==============================] - 14s 285us/step - loss: 0.5105 - acc: 0.8178 - val_loss: 2.2126 - val_acc: 0.5053\n",
      "Epoch 65/100\n",
      "50000/50000 [==============================] - 15s 297us/step - loss: 0.4844 - acc: 0.8249 - val_loss: 2.2100 - val_acc: 0.5078\n",
      "Epoch 66/100\n",
      "50000/50000 [==============================] - 15s 294us/step - loss: 0.4989 - acc: 0.8199 - val_loss: 2.3334 - val_acc: 0.4973\n",
      "Epoch 67/100\n",
      "50000/50000 [==============================] - 14s 289us/step - loss: 0.4962 - acc: 0.8206 - val_loss: 2.2079 - val_acc: 0.5172\n",
      "Epoch 68/100\n",
      "50000/50000 [==============================] - 15s 294us/step - loss: 0.4627 - acc: 0.8338 - val_loss: 2.2996 - val_acc: 0.5073\n",
      "Epoch 69/100\n",
      "50000/50000 [==============================] - 14s 290us/step - loss: 0.4755 - acc: 0.8279 - val_loss: 2.3929 - val_acc: 0.5018\n",
      "Epoch 70/100\n",
      "50000/50000 [==============================] - 14s 288us/step - loss: 0.4603 - acc: 0.8329 - val_loss: 2.3850 - val_acc: 0.5080\n",
      "Epoch 71/100\n",
      "50000/50000 [==============================] - 15s 304us/step - loss: 0.4497 - acc: 0.8383 - val_loss: 2.3123 - val_acc: 0.5109\n",
      "Epoch 72/100\n",
      "50000/50000 [==============================] - 15s 306us/step - loss: 0.4294 - acc: 0.8461 - val_loss: 2.3523 - val_acc: 0.5083\n",
      "Epoch 73/100\n",
      "50000/50000 [==============================] - 15s 296us/step - loss: 0.4309 - acc: 0.8429 - val_loss: 2.3962 - val_acc: 0.5020\n",
      "Epoch 74/100\n",
      "50000/50000 [==============================] - 15s 294us/step - loss: 0.4285 - acc: 0.8445 - val_loss: 2.4703 - val_acc: 0.5057\n",
      "Epoch 75/100\n",
      "50000/50000 [==============================] - 15s 294us/step - loss: 0.4388 - acc: 0.8429 - val_loss: 2.4394 - val_acc: 0.5022\n",
      "Epoch 76/100\n",
      "50000/50000 [==============================] - 15s 297us/step - loss: 0.4201 - acc: 0.8470 - val_loss: 2.5153 - val_acc: 0.5094\n",
      "Epoch 77/100\n",
      "50000/50000 [==============================] - 15s 291us/step - loss: 0.4129 - acc: 0.8502 - val_loss: 2.5108 - val_acc: 0.5048\n",
      "Epoch 78/100\n",
      "50000/50000 [==============================] - 15s 302us/step - loss: 0.4032 - acc: 0.8543 - val_loss: 2.4643 - val_acc: 0.5073\n",
      "Epoch 79/100\n",
      "50000/50000 [==============================] - 15s 295us/step - loss: 0.3781 - acc: 0.8643 - val_loss: 2.6349 - val_acc: 0.4905\n",
      "Epoch 80/100\n",
      "50000/50000 [==============================] - 15s 294us/step - loss: 0.4019 - acc: 0.8543 - val_loss: 2.5501 - val_acc: 0.5011\n",
      "Epoch 81/100\n",
      "50000/50000 [==============================] - 15s 300us/step - loss: 0.3886 - acc: 0.8586 - val_loss: 2.6961 - val_acc: 0.4958\n",
      "Epoch 82/100\n",
      "50000/50000 [==============================] - 15s 295us/step - loss: 0.3831 - acc: 0.8614 - val_loss: 2.6904 - val_acc: 0.5002\n",
      "Epoch 83/100\n",
      "50000/50000 [==============================] - 15s 292us/step - loss: 0.3755 - acc: 0.8647 - val_loss: 2.7936 - val_acc: 0.5007\n",
      "Epoch 84/100\n",
      "50000/50000 [==============================] - 15s 295us/step - loss: 0.3778 - acc: 0.8644 - val_loss: 2.6405 - val_acc: 0.5058\n",
      "Epoch 85/100\n",
      "50000/50000 [==============================] - 15s 299us/step - loss: 0.3511 - acc: 0.8743 - val_loss: 2.6398 - val_acc: 0.5043\n",
      "Epoch 86/100\n",
      "50000/50000 [==============================] - 15s 298us/step - loss: 0.3762 - acc: 0.8654 - val_loss: 2.9163 - val_acc: 0.4979\n",
      "Epoch 87/100\n",
      "50000/50000 [==============================] - 15s 295us/step - loss: 0.3646 - acc: 0.8696 - val_loss: 2.7387 - val_acc: 0.5069\n",
      "Epoch 88/100\n",
      "50000/50000 [==============================] - 15s 295us/step - loss: 0.3635 - acc: 0.8685 - val_loss: 2.7474 - val_acc: 0.5060\n",
      "Epoch 89/100\n",
      "50000/50000 [==============================] - 15s 296us/step - loss: 0.3623 - acc: 0.8696 - val_loss: 2.7091 - val_acc: 0.5048\n",
      "Epoch 90/100\n",
      "50000/50000 [==============================] - 15s 292us/step - loss: 0.3210 - acc: 0.8847 - val_loss: 2.8539 - val_acc: 0.5065\n",
      "Epoch 91/100\n",
      "50000/50000 [==============================] - 15s 298us/step - loss: 0.3426 - acc: 0.8771 - val_loss: 2.8937 - val_acc: 0.5033\n",
      "Epoch 92/100\n",
      "50000/50000 [==============================] - 15s 295us/step - loss: 0.3491 - acc: 0.8730 - val_loss: 2.8356 - val_acc: 0.5007\n",
      "Epoch 93/100\n",
      "50000/50000 [==============================] - 14s 290us/step - loss: 0.3351 - acc: 0.8786 - val_loss: 2.9424 - val_acc: 0.5023\n",
      "Epoch 94/100\n",
      "50000/50000 [==============================] - 14s 290us/step - loss: 0.3608 - acc: 0.8697 - val_loss: 2.8971 - val_acc: 0.5011\n",
      "Epoch 95/100\n",
      "50000/50000 [==============================] - 15s 299us/step - loss: 0.3005 - acc: 0.8904 - val_loss: 3.0139 - val_acc: 0.4992\n",
      "Epoch 96/100\n",
      "50000/50000 [==============================] - 15s 301us/step - loss: 0.3069 - acc: 0.8892 - val_loss: 3.0352 - val_acc: 0.5008\n",
      "Epoch 97/100\n",
      "50000/50000 [==============================] - 15s 298us/step - loss: 0.3415 - acc: 0.8774 - val_loss: 2.9900 - val_acc: 0.4971\n",
      "Epoch 98/100\n",
      "50000/50000 [==============================] - 15s 294us/step - loss: 0.3266 - acc: 0.8821 - val_loss: 2.8841 - val_acc: 0.5090\n",
      "Epoch 99/100\n",
      "50000/50000 [==============================] - 15s 305us/step - loss: 0.2918 - acc: 0.8953 - val_loss: 2.9750 - val_acc: 0.4984\n",
      "Epoch 100/100\n",
      "50000/50000 [==============================] - 15s 293us/step - loss: 0.3051 - acc: 0.8887 - val_loss: 2.9719 - val_acc: 0.4967\n"
     ]
    },
    {
     "data": {
      "text/plain": [
       "<keras.callbacks.History at 0x228975d40f0>"
      ]
     },
     "execution_count": 9,
     "metadata": {},
     "output_type": "execute_result"
    }
   ],
   "source": [
    "model.fit(x_train, y_train, \n",
    "          epochs=EPOCHS, \n",
    "          batch_size=BATCH_SIZE, \n",
    "          validation_data=(x_test, y_test), \n",
    "          shuffle=True)"
   ]
  },
  {
   "cell_type": "code",
   "execution_count": 11,
   "metadata": {},
   "outputs": [
    {
     "data": {
      "image/png": "[encoded data removed]",
      "text/plain": [
       "<Figure size 432x288 with 1 Axes>"
      ]
     },
     "metadata": {
      "needs_background": "light"
     },
     "output_type": "display_data"
    },
    {
     "data": {
      "image/png": "[encoded data removed]",
      "text/plain": [
       "<Figure size 432x288 with 1 Axes>"
      ]
     },
     "metadata": {
      "needs_background": "light"
     },
     "output_type": "display_data"
    }
   ],
   "source": [
    "import matplotlib.pyplot as plt\n",
    "\n",
    "\n",
    "train_loss = model.history.history[\"loss\"]\n",
    "valid_loss = model.history.history[\"val_loss\"]\n",
    "\n",
    "train_acc = model.history.history[\"acc\"]\n",
    "valid_acc = model.history.history[\"val_acc\"]\n",
    "\n",
    "plt.plot(range(len(train_loss)), train_loss, label=\"train loss\")\n",
    "plt.plot(range(len(valid_loss)), valid_loss, label=\"valid loss\")\n",
    "plt.legend()\n",
    "plt.title(\"Loss\")\n",
    "plt.show()\n",
    "\n",
    "plt.plot(range(len(train_acc)), train_acc, label=\"train accuracy\")\n",
    "plt.plot(range(len(valid_acc)), valid_acc, label=\"valid accuracy\")\n",
    "plt.legend()\n",
    "plt.title(\"Accuracy\")\n",
    "plt.show()"
   ]
  }
 ],
 "metadata": {
  "kernelspec": {
   "display_name": "Python 3",
   "language": "python",
   "name": "python3"
  },
  "language_info": {
   "codemirror_mode": {
    "name": "ipython",
    "version": 3
   },
   "file_extension": ".py",
   "mimetype": "text/x-python",
   "name": "python",
   "nbconvert_exporter": "python",
   "pygments_lexer": "ipython3",
   "version": "3.7.3"
  }
 },
 "nbformat": 4,
 "nbformat_minor": 2
}
