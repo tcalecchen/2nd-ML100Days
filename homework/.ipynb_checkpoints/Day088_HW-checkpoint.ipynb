{
 "cells": [
  {
   "cell_type": "markdown",
   "metadata": {},
   "source": [
    "## Work\n",
    "1. 請嘗試寫一個 callback 用來記錄各類別在訓練過程中，對驗證集的 True Positive 與 True Negative"
   ]
  },
  {
   "cell_type": "code",
   "execution_count": 1,
   "metadata": {},
   "outputs": [
    {
     "name": "stderr",
     "output_type": "stream",
     "text": [
      "Using TensorFlow backend.\n"
     ]
    }
   ],
   "source": [
    "import os\n",
    "import keras\n",
    "\n",
    "# Disable GPU\n",
    "os.environ[\"CUDA_VISIBLE_DEVICES\"] = \"\""
   ]
  },
  {
   "cell_type": "code",
   "execution_count": 2,
   "metadata": {},
   "outputs": [],
   "source": [
    "train, test = keras.datasets.cifar10.load_data()"
   ]
  },
  {
   "cell_type": "code",
   "execution_count": 3,
   "metadata": {},
   "outputs": [],
   "source": [
    "## 資料前處理\n",
    "def preproc_x(x, flatten=True):\n",
    "    x = x / 255.\n",
    "    if flatten:\n",
    "        x = x.reshape((len(x), -1))\n",
    "    return x\n",
    "\n",
    "def preproc_y(y, num_classes=10):\n",
    "    if y.shape[-1] == 1:\n",
    "        y = keras.utils.to_categorical(y, num_classes)\n",
    "    return y    "
   ]
  },
  {
   "cell_type": "code",
   "execution_count": 4,
   "metadata": {},
   "outputs": [],
   "source": [
    "x_train, y_train = train\n",
    "x_test, y_test = test\n",
    "\n",
    "# Preproc the inputs\n",
    "x_train = preproc_x(x_train)\n",
    "x_test = preproc_x(x_test)\n",
    "\n",
    "# Preprc the outputs\n",
    "y_train = preproc_y(y_train)\n",
    "y_test = preproc_y(y_test)"
   ]
  },
  {
   "cell_type": "code",
   "execution_count": 5,
   "metadata": {},
   "outputs": [],
   "source": [
    "from keras.layers import BatchNormalization\n",
    "\n",
    "def build_mlp(input_shape, output_units=10, num_neurons=[512, 256, 128]):\n",
    "    \"\"\"Code Here\n",
    "    建立你的神經網路\n",
    "    \"\"\"\n",
    "    input_layer = keras.layers.Input(input_shape)\n",
    "    \n",
    "    for i, n_units in enumerate(num_neurons):\n",
    "        if i == 0:\n",
    "            x = keras.layers.Dense(units=n_units, \n",
    "                                   activation=\"relu\", \n",
    "                                   name=\"hidden_layer\"+str(i+1))(input_layer)\n",
    "            x = BatchNormalization()(x)\n",
    "        else:\n",
    "            x = keras.layers.Dense(units=n_units, \n",
    "                                   activation=\"relu\", \n",
    "                                   name=\"hidden_layer\"+str(i+1))(x)\n",
    "            x = BatchNormalization()(x)\n",
    "    \n",
    "    out = keras.layers.Dense(units=output_units, activation=\"softmax\", name=\"output\")(x)\n",
    "    \n",
    "    model = keras.models.Model(inputs=[input_layer], outputs=[out])\n",
    "    return model"
   ]
  },
  {
   "cell_type": "code",
   "execution_count": 6,
   "metadata": {},
   "outputs": [],
   "source": [
    "## 超參數設定\n",
    "LEARNING_RATE = 1e-3\n",
    "EPOCHS = 25\n",
    "BATCH_SIZE = 1024\n",
    "MOMENTUM = 0.95"
   ]
  },
  {
   "cell_type": "code",
   "execution_count": 7,
   "metadata": {},
   "outputs": [],
   "source": [
    "# 載入 Callbacks\n",
    "from keras.callbacks import Callback\n",
    "import numpy as np\n",
    "\n",
    "# Record_fp_tp\n",
    "class Record_tp_tn(Callback):\n",
    "    \"\"\"Code Here\n",
    "    撰寫一個紀錄 ture positive 與 true negative 數量的 callbacks    \n",
    "    \"\"\"\n",
    "    def on_train_begin(self, epoch, logs = {}):\n",
    "        logs = logs or {}\n",
    "        record_items = [\"true_positive\", \"true_negative\"]\n",
    "        for i in record_items:\n",
    "            if i not in self.params['metrics']:\n",
    "                self.params['metrics'].append(i)\n",
    "                \n",
    "    def on_epoch_end(self, epoch, logs = {}, thres=0.5):\n",
    "        logs = logs or {}\n",
    "        y_true = self.validation_data[1].argmax(axis = 1)\n",
    "        y_pred = self.model.predict(self.validation_data[0])\n",
    "        y_pred = (y_pred[:, 1] >= thres) * 1\n",
    "        \n",
    "        true_positive = np.sum(np.logical_and(np.equal(y_true,1),np.equal(y_pred,1)))\n",
    "        true_negative = np.sum(np.logical_and(np.equal(y_true,0),np.equal(y_pred,0)))\n",
    "        \n",
    "        logs[\"true_positive\"] = true_positive\n",
    "        logs[\"true_negative\"] = true_negative\n",
    "        \n",
    "rec_tptn = Record_tp_tn()"
   ]
  },
  {
   "cell_type": "code",
   "execution_count": 8,
   "metadata": {
    "scrolled": true
   },
   "outputs": [
    {
     "name": "stderr",
     "output_type": "stream",
     "text": [
      "WARNING: Logging before flag parsing goes to stderr.\n",
      "W0724 15:55:34.985982 82320 deprecation_wrapper.py:119] From D:\\Anaconda3\\lib\\site-packages\\keras\\backend\\tensorflow_backend.py:74: The name tf.get_default_graph is deprecated. Please use tf.compat.v1.get_default_graph instead.\n",
      "\n",
      "W0724 15:55:35.032963 82320 deprecation_wrapper.py:119] From D:\\Anaconda3\\lib\\site-packages\\keras\\backend\\tensorflow_backend.py:517: The name tf.placeholder is deprecated. Please use tf.compat.v1.placeholder instead.\n",
      "\n",
      "W0724 15:55:35.034952 82320 deprecation_wrapper.py:119] From D:\\Anaconda3\\lib\\site-packages\\keras\\backend\\tensorflow_backend.py:4138: The name tf.random_uniform is deprecated. Please use tf.random.uniform instead.\n",
      "\n",
      "W0724 15:55:35.102923 82320 deprecation_wrapper.py:119] From D:\\Anaconda3\\lib\\site-packages\\keras\\backend\\tensorflow_backend.py:133: The name tf.placeholder_with_default is deprecated. Please use tf.compat.v1.placeholder_with_default instead.\n",
      "\n",
      "W0724 15:55:35.331792 82320 deprecation_wrapper.py:119] From D:\\Anaconda3\\lib\\site-packages\\keras\\optimizers.py:790: The name tf.train.Optimizer is deprecated. Please use tf.compat.v1.train.Optimizer instead.\n",
      "\n",
      "W0724 15:55:35.337779 82320 deprecation_wrapper.py:119] From D:\\Anaconda3\\lib\\site-packages\\keras\\backend\\tensorflow_backend.py:3295: The name tf.log is deprecated. Please use tf.math.log instead.\n",
      "\n",
      "W0724 15:55:35.415749 82320 deprecation.py:323] From D:\\Anaconda3\\lib\\site-packages\\tensorflow\\python\\ops\\math_grad.py:1250: add_dispatch_support.<locals>.wrapper (from tensorflow.python.ops.array_ops) is deprecated and will be removed in a future version.\n",
      "Instructions for updating:\n",
      "Use tf.where in 2.0, which has the same broadcast rule as np.where\n"
     ]
    },
    {
     "name": "stdout",
     "output_type": "stream",
     "text": [
      "_________________________________________________________________\n",
      "Layer (type)                 Output Shape              Param #   \n",
      "=================================================================\n",
      "input_1 (InputLayer)         (None, 3072)              0         \n",
      "_________________________________________________________________\n",
      "hidden_layer1 (Dense)        (None, 512)               1573376   \n",
      "_________________________________________________________________\n",
      "batch_normalization_1 (Batch (None, 512)               2048      \n",
      "_________________________________________________________________\n",
      "hidden_layer2 (Dense)        (None, 256)               131328    \n",
      "_________________________________________________________________\n",
      "batch_normalization_2 (Batch (None, 256)               1024      \n",
      "_________________________________________________________________\n",
      "hidden_layer3 (Dense)        (None, 128)               32896     \n",
      "_________________________________________________________________\n",
      "batch_normalization_3 (Batch (None, 128)               512       \n",
      "_________________________________________________________________\n",
      "output (Dense)               (None, 10)                1290      \n",
      "=================================================================\n",
      "Total params: 1,742,474\n",
      "Trainable params: 1,740,682\n",
      "Non-trainable params: 1,792\n",
      "_________________________________________________________________\n",
      "Train on 50000 samples, validate on 10000 samples\n",
      "Epoch 1/25\n",
      "50000/50000 [==============================] - 5s 106us/step - loss: 2.2057 - acc: 0.2756 - val_loss: 2.1852 - val_acc: 0.3067\n",
      "Epoch 2/25\n",
      "50000/50000 [==============================] - 4s 84us/step - loss: 1.7508 - acc: 0.3907 - val_loss: 1.8162 - val_acc: 0.3828\n",
      "Epoch 3/25\n",
      "50000/50000 [==============================] - 4s 89us/step - loss: 1.6238 - acc: 0.4317 - val_loss: 1.6964 - val_acc: 0.4066\n",
      "Epoch 4/25\n",
      "50000/50000 [==============================] - 4s 83us/step - loss: 1.5484 - acc: 0.4587 - val_loss: 1.6345 - val_acc: 0.4329\n",
      "Epoch 5/25\n",
      "50000/50000 [==============================] - 4s 83us/step - loss: 1.4930 - acc: 0.4775 - val_loss: 1.6076 - val_acc: 0.4371\n",
      "Epoch 6/25\n",
      "50000/50000 [==============================] - 4s 85us/step - loss: 1.4470 - acc: 0.4931 - val_loss: 1.5743 - val_acc: 0.4507\n",
      "Epoch 7/25\n",
      "50000/50000 [==============================] - 5s 93us/step - loss: 1.4063 - acc: 0.5085 - val_loss: 1.5572 - val_acc: 0.4520\n",
      "Epoch 8/25\n",
      "50000/50000 [==============================] - 5s 94us/step - loss: 1.3704 - acc: 0.5222 - val_loss: 1.5371 - val_acc: 0.4623\n",
      "Epoch 9/25\n",
      "50000/50000 [==============================] - 5s 93us/step - loss: 1.3366 - acc: 0.5355 - val_loss: 1.5245 - val_acc: 0.4648 1.3350 - acc: 0.5\n",
      "Epoch 10/25\n",
      "50000/50000 [==============================] - 4s 88us/step - loss: 1.3075 - acc: 0.5469 - val_loss: 1.5215 - val_acc: 0.4686\n",
      "Epoch 11/25\n",
      "50000/50000 [==============================] - 5s 91us/step - loss: 1.2779 - acc: 0.5553 - val_loss: 1.5114 - val_acc: 0.4716\n",
      "Epoch 12/25\n",
      "50000/50000 [==============================] - 4s 88us/step - loss: 1.2491 - acc: 0.5675 - val_loss: 1.4998 - val_acc: 0.4743\n",
      "Epoch 13/25\n",
      "50000/50000 [==============================] - 4s 86us/step - loss: 1.2236 - acc: 0.5756 - val_loss: 1.4987 - val_acc: 0.4751\n",
      "Epoch 14/25\n",
      "50000/50000 [==============================] - 4s 82us/step - loss: 1.1994 - acc: 0.5859 - val_loss: 1.4772 - val_acc: 0.4800\n",
      "Epoch 15/25\n",
      "50000/50000 [==============================] - 4s 84us/step - loss: 1.1729 - acc: 0.5945 - val_loss: 1.4857 - val_acc: 0.4816\n",
      "Epoch 16/25\n",
      "50000/50000 [==============================] - 4s 86us/step - loss: 1.1508 - acc: 0.6066 - val_loss: 1.4883 - val_acc: 0.4733\n",
      "Epoch 17/25\n",
      "50000/50000 [==============================] - 4s 89us/step - loss: 1.1266 - acc: 0.6124 - val_loss: 1.4732 - val_acc: 0.4855\n",
      "Epoch 18/25\n",
      "50000/50000 [==============================] - 4s 84us/step - loss: 1.1036 - acc: 0.6228 - val_loss: 1.4851 - val_acc: 0.4853\n",
      "Epoch 19/25\n",
      "50000/50000 [==============================] - 4s 85us/step - loss: 1.0819 - acc: 0.6308 - val_loss: 1.4855 - val_acc: 0.4804\n",
      "Epoch 20/25\n",
      "50000/50000 [==============================] - 5s 100us/step - loss: 1.0603 - acc: 0.6393 - val_loss: 1.4691 - val_acc: 0.4908\n",
      "Epoch 21/25\n",
      "50000/50000 [==============================] - 4s 85us/step - loss: 1.0365 - acc: 0.6479 - val_loss: 1.4771 - val_acc: 0.4894\n",
      "Epoch 22/25\n",
      "50000/50000 [==============================] - 5s 90us/step - loss: 1.0178 - acc: 0.6558 - val_loss: 1.4690 - val_acc: 0.4929\n",
      "Epoch 23/25\n",
      "50000/50000 [==============================] - 5s 92us/step - loss: 0.9938 - acc: 0.6650 - val_loss: 1.4768 - val_acc: 0.4907\n",
      "Epoch 24/25\n",
      "50000/50000 [==============================] - 4s 86us/step - loss: 0.9720 - acc: 0.6756 - val_loss: 1.4927 - val_acc: 0.4849\n",
      "Epoch 25/25\n",
      "50000/50000 [==============================] - 4s 89us/step - loss: 0.9526 - acc: 0.6810 - val_loss: 1.4677 - val_acc: 0.4941\n"
     ]
    }
   ],
   "source": [
    "model = build_mlp(input_shape=x_train.shape[1:])\n",
    "model.summary()\n",
    "optimizer = keras.optimizers.SGD(lr=LEARNING_RATE, nesterov=True, momentum=MOMENTUM)\n",
    "model.compile(loss=\"categorical_crossentropy\", metrics=[\"accuracy\"], optimizer=optimizer)\n",
    "\n",
    "\"\"\"Code Here\n",
    "將 callbacks 放入模型訓練流程中\n",
    "\"\"\"\n",
    "model.fit(x_train, y_train, \n",
    "          epochs=EPOCHS, \n",
    "          batch_size=BATCH_SIZE, \n",
    "          validation_data=(x_test, y_test), \n",
    "          shuffle=True,\n",
    "          callbacks=[rec_tptn])\n",
    "\n",
    "# Collect results\n",
    "train_loss = model.history.history[\"loss\"]\n",
    "valid_loss = model.history.history[\"val_loss\"]\n",
    "train_acc = model.history.history[\"acc\"]\n",
    "valid_acc = model.history.history[\"val_acc\"]\n",
    "\n",
    "\"\"\"Code Here\n",
    "將 tp/tn 從訓練完的模型中取出\n",
    "\"\"\"\n",
    "valid_tp = model.history.history['true_positive']\n",
    "valid_tn = model.history.history['true_negative']"
   ]
  },
  {
   "cell_type": "code",
   "execution_count": 9,
   "metadata": {},
   "outputs": [
    {
     "data": {
      "image/png": "[encoded data removed]",
      "text/plain": [
       "<Figure size 432x288 with 1 Axes>"
      ]
     },
     "metadata": {
      "needs_background": "light"
     },
     "output_type": "display_data"
    },
    {
     "data": {
      "image/png": "[encoded data removed]",
      "text/plain": [
       "<Figure size 432x288 with 1 Axes>"
      ]
     },
     "metadata": {
      "needs_background": "light"
     },
     "output_type": "display_data"
    },
    {
     "data": {
      "image/png": "[encoded data removed]",
      "text/plain": [
       "<Figure size 432x288 with 1 Axes>"
      ]
     },
     "metadata": {
      "needs_background": "light"
     },
     "output_type": "display_data"
    }
   ],
   "source": [
    "import matplotlib.pyplot as plt\n",
    "%matplotlib inline\n",
    "\n",
    "plt.plot(range(len(train_loss)), train_loss, label=\"train loss\")\n",
    "plt.plot(range(len(valid_loss)), valid_loss, label=\"valid loss\")\n",
    "plt.legend()\n",
    "plt.title(\"Loss\")\n",
    "plt.show()\n",
    "\n",
    "plt.plot(range(len(train_acc)), train_acc, label=\"train accuracy\")\n",
    "plt.plot(range(len(valid_acc)), valid_acc, label=\"valid accuracy\")\n",
    "plt.legend()\n",
    "plt.title(\"Accuracy\")\n",
    "plt.show()\n",
    "\n",
    "plt.plot(range(len(valid_tp)), valid_tp, label=\"valid tp\", color=\"navy\")\n",
    "plt.plot(range(len(valid_tn)), valid_tn, label=\"valid tn\", color=\"red\")\n",
    "plt.legend()\n",
    "plt.title(\"True positives and True Negatives\")\n",
    "plt.show()\n"
   ]
  }
 ],
 "metadata": {
  "kernelspec": {
   "display_name": "Python 3",
   "language": "python",
   "name": "python3"
  },
  "language_info": {
   "codemirror_mode": {
    "name": "ipython",
    "version": 3
   },
   "file_extension": ".py",
   "mimetype": "text/x-python",
   "name": "python",
   "nbconvert_exporter": "python",
   "pygments_lexer": "ipython3",
   "version": "3.7.3"
  }
 },
 "nbformat": 4,
 "nbformat_minor": 2
}
